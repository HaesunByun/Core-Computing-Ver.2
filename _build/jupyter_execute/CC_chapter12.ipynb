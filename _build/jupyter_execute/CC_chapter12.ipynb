{
 "cells": [
  {
   "cell_type": "markdown",
   "metadata": {
    "id": "tnggpWyuaaAw"
   },
   "source": [
    "# Chapter 12. 그래프\n"
   ]
  },
  {
   "cell_type": "markdown",
   "metadata": {
    "id": "BvK5dDG9vaz9"
   },
   "source": [
    ":::{admonition} 학습목표와 기대효과\n",
    ":class: info  \n",
    "- 학습목표\n",
    "\n",
    "\n",
    "- 기대효과\n"
   ]
  }
 ],
 "metadata": {
  "colab": {
   "provenance": [
    {
     "file_id": "1X-3QiBXmOLAzoB24Z1Qoub8lpgkyWQE5",
     "timestamp": 1722311851969
    },
    {
     "file_id": "1X-x_SUGE1t23E_-2P-s7Mf66cK_tcw65",
     "timestamp": 1722311658690
    },
    {
     "file_id": "1LwlHe_P6wCv1tgZYSotJskHslRBqfwA2",
     "timestamp": 1722311395711
    },
    {
     "file_id": "1dB6QCQacTfLFrMEq4yg4llEydbjFwDR7",
     "timestamp": 1722310924576
    },
    {
     "file_id": "1gzYhoEg3GhFrQ5GtJgrG40XGBn5DIy9X",
     "timestamp": 1722310439188
    },
    {
     "file_id": "17CxXerx0CP3oWfvsKajBsXtIys3BQ_Pw",
     "timestamp": 1722310407335
    },
    {
     "file_id": "1H6o0jGkMyscVF9FMRUkK87KFV4WjMWxt",
     "timestamp": 1722310358934
    },
    {
     "file_id": "1mnTZLYgI0kTWpae-irbeSql7nrvd9QMP",
     "timestamp": 1722310315370
    },
    {
     "file_id": "1WRDmVSBXiMQG0q_kIbaBWg6NCJslNVG-",
     "timestamp": 1722310273976
    },
    {
     "file_id": "1f5TVf5a7j1qUGFNQcMpiITM-XQ-Zbhws",
     "timestamp": 1722310108314
    },
    {
     "file_id": "1Wqoo6g-UF5F7OBCtrCUF1W_SeGG4VGM8",
     "timestamp": 1678443253117
    }
   ]
  },
  "kernelspec": {
   "display_name": "Python 3",
   "name": "python3"
  },
  "language_info": {
   "codemirror_mode": {
    "name": "ipython",
    "version": 3
   },
   "file_extension": ".py",
   "mimetype": "text/x-python",
   "name": "python",
   "nbconvert_exporter": "python",
   "pygments_lexer": "ipython3",
   "version": "3.7.4"
  }
 },
 "nbformat": 4,
 "nbformat_minor": 0
}