{
 "cells": [
  {
   "cell_type": "markdown",
   "metadata": {
    "id": "tnggpWyuaaAw"
   },
   "source": [
    "# Chapter 1. 기본자료형과 입출력\n"
   ]
  },
  {
   "cell_type": "markdown",
   "metadata": {
    "id": "BvK5dDG9vaz9"
   },
   "source": [
    ":::{admonition} 학습목표와 기대효과\n",
    ":class: info  \n",
    "- 학습목표\n",
    "  - 기본자료형을 알아보자.\n",
    "  - 산술연산자, 복합연산자를 이용하여 수식을 표현해보자.\n",
    "  - 문자열 데이터의 특징과 인덱싱, 슬라이싱을 알아보자.\n",
    "  - 데이타를 입력받고, 출력해보자.\n",
    "\n",
    "- 기대효과\n",
    "  - 파이썬으로 산술연산을 위한 표현식을 작성할 수 있다.\n",
    "  - 정수, 실수, 문자열 자료를 입력받고 출력할 수 있다."
   ]
  }
 ],
 "metadata": {
  "colab": {
   "provenance": [
    {
     "file_id": "1Wqoo6g-UF5F7OBCtrCUF1W_SeGG4VGM8",
     "timestamp": 1678443253117
    }
   ]
  },
  "kernelspec": {
   "display_name": "Python 3",
   "name": "python3"
  },
  "language_info": {
   "codemirror_mode": {
    "name": "ipython",
    "version": 3
   },
   "file_extension": ".py",
   "mimetype": "text/x-python",
   "name": "python",
   "nbconvert_exporter": "python",
   "pygments_lexer": "ipython3",
   "version": "3.7.4"
  }
 },
 "nbformat": 4,
 "nbformat_minor": 0
}