{
  "nbformat": 4,
  "nbformat_minor": 0,
  "metadata": {
    "colab": {
      "name": "temp.ipynb",
      "provenance": []
    },
    "kernelspec": {
      "name": "python3",
      "display_name": "Python 3"
    },
    "language_info": {
      "name": "python"
    }
  },
  "cells": [
    {
      "cell_type": "code",
      "metadata": {
        "id": "3QmyVCuoLtIQ"
      },
      "source": [
        "print('온도 변환 프로그램')\n",
        "f1 = float(input('화씨 온도를 입력하세요:'))\n",
        "\n",
        "c1 = 5.0/9.0*(f1-32.0)\n",
        "print('섭씨 온도는', c1, '℃ 입니다.\\n')\n",
        "\n",
        "c2 = input('섭씨 온도를 입력하세요:')\n",
        "c2 = float(c2)\n",
        "f2 = 9.0/5.0*c2+32.0\n",
        "print('화씨 온도는', f2, '℉ 입니다.')"
      ],
      "execution_count": null,
      "outputs": []
    }
  ]
}